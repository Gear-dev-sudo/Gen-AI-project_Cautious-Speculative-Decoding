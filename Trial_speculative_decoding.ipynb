{
 "cells": [
  {
   "cell_type": "code",
   "execution_count": 9,
   "metadata": {},
   "outputs": [],
   "source": [
    "# from transformers import AutoModelForCausalLM, AutoTokenizer\n",
    "\n",
    "# prompt = \"Alice and Bob\"\n",
    "# checkpoint = \"double7/vicuna-68m\"\n",
    "# assistant_checkpoint = \"double7/vicuna-68m\"\n",
    "\n",
    "# assistant_tokenizer = AutoTokenizer.from_pretrained(assistant_checkpoint)\n",
    "# tokenizer = AutoTokenizer.from_pretrained(checkpoint)\n",
    "# inputs = tokenizer(prompt, return_tensors=\"pt\")\n",
    "# print(inputs)\n",
    "# model = AutoModelForCausalLM.from_pretrained(checkpoint)\n",
    "# assistant_model = AutoModelForCausalLM.from_pretrained(assistant_checkpoint)\n",
    "# outputs = model.generate(**inputs, assistant_model=assistant_model, tokenizer=tokenizer, assistant_tokenizer=assistant_tokenizer, MAX_NEW)\n",
    "# tokenizer.batch_decode(outputs, skip_special_tokens=True)"
   ]
  },
  {
   "cell_type": "code",
   "execution_count": null,
   "metadata": {},
   "outputs": [],
   "source": [
    "device = \"cuda\""
   ]
  },
  {
   "cell_type": "code",
   "execution_count": 11,
   "metadata": {},
   "outputs": [
    {
     "data": {
      "application/vnd.jupyter.widget-view+json": {
       "model_id": "a6d75c8ea7c64ae084442771e7d0c6a8",
       "version_major": 2,
       "version_minor": 0
      },
      "text/plain": [
       "Loading checkpoint shards:   0%|          | 0/2 [00:00<?, ?it/s]"
      ]
     },
     "metadata": {},
     "output_type": "display_data"
    },
    {
     "data": {
      "text/plain": [
       "['system\\nYou are Qwen, created by Alibaba Cloud. You are a helpful assistant.\\nuser\\nAlice and Bob\\nassistant\\nHello! I\\'d be happy to have a conversation with you about Alice and Bob. Who or what specifically do you have in mind? They could refer to:\\n\\n1. A pair of characters often used in cryptography and computer science to demonstrate simple secure communication protocols.\\n2. Two individuals who might be discussing various topics.\\n3. A fictional couple or duo.\\n4. Any other context where \"Alice\" and \"Bob\" are being used.\\n\\nPlease provide more details so I can assist you better.']"
      ]
     },
     "execution_count": 11,
     "metadata": {},
     "output_type": "execute_result"
    }
   ],
   "source": [
    "from transformers import AutoModelForCausalLM, AutoTokenizer\n",
    "\n",
    "prompt = \"Alice and Bob\"\n",
    "checkpoint = \"Qwen/Qwen2.5-3B-Instruct\"\n",
    "assistant_checkpoint = \"Qwen/Qwen2.5-0.5B-Instruct\"\n",
    "\n",
    "assistant_tokenizer = AutoTokenizer.from_pretrained(assistant_checkpoint)\n",
    "tokenizer = AutoTokenizer.from_pretrained(checkpoint)\n",
    "\n",
    "messages = [\n",
    "    {\"role\": \"system\", \"content\": \"You are Qwen, created by Alibaba Cloud. You are a helpful assistant.\"},\n",
    "    {\"role\": \"user\", \"content\": prompt}\n",
    "]\n",
    "\n",
    "text = tokenizer.apply_chat_template(\n",
    "    messages,\n",
    "    tokenize=False,\n",
    "    add_generation_prompt=True\n",
    ")\n",
    "\n",
    "inputs= tokenizer([text], return_tensors=\"pt\").to(model.device)\n",
    "\n",
    "model = AutoModelForCausalLM.from_pretrained(checkpoint)\n",
    "assistant_model = AutoModelForCausalLM.from_pretrained(assistant_checkpoint)\n",
    "\n",
    "# Move tensors to GPU\n",
    "inputs = {k : v.to('cuda') for k ,v in inputs.items()}\n",
    "assistant_model = assistant_model.to('cuda')\n",
    "model = model.to('cuda')\n",
    "\n",
    "#ValueError: `assistant_tokenizer` is not required when the main and assistant models use the same tokenizer. Please omit `assistant_tokenizer` from `generate()`\n",
    "outputs = model.generate(**inputs, assistant_model=assistant_model, tokenizer=tokenizer,max_new_tokens = 1000)#,  assistant_tokenizer=assistant_tokenizer)\n",
    "tokenizer.batch_decode(outputs, skip_special_tokens=True)"
   ]
  }
 ],
 "metadata": {
  "kernelspec": {
   "display_name": "torch",
   "language": "python",
   "name": "python3"
  },
  "language_info": {
   "codemirror_mode": {
    "name": "ipython",
    "version": 3
   },
   "file_extension": ".py",
   "mimetype": "text/x-python",
   "name": "python",
   "nbconvert_exporter": "python",
   "pygments_lexer": "ipython3",
   "version": "3.11.10"
  }
 },
 "nbformat": 4,
 "nbformat_minor": 2
}
